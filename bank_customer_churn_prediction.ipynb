{
 "cells": [
  {
   "cell_type": "code",
   "execution_count": 1,
   "id": "6f04b8e2",
   "metadata": {},
   "outputs": [],
   "source": [
    "import pandas as pd\n",
    "import matplotlib.pyplot as plt\n",
    "%matplotlib inline \n",
    "import numpy as np"
   ]
  },
  {
   "cell_type": "code",
   "execution_count": 2,
   "id": "5432c37e",
   "metadata": {},
   "outputs": [],
   "source": [
    "df = pd.read_csv(\"Churn_Modelling.csv\")"
   ]
  },
  {
   "cell_type": "code",
   "execution_count": 3,
   "id": "eeb48f0e",
   "metadata": {},
   "outputs": [
    {
     "data": {
      "text/html": [
       "<div>\n",
       "<style scoped>\n",
       "    .dataframe tbody tr th:only-of-type {\n",
       "        vertical-align: middle;\n",
       "    }\n",
       "\n",
       "    .dataframe tbody tr th {\n",
       "        vertical-align: top;\n",
       "    }\n",
       "\n",
       "    .dataframe thead th {\n",
       "        text-align: right;\n",
       "    }\n",
       "</style>\n",
       "<table border=\"1\" class=\"dataframe\">\n",
       "  <thead>\n",
       "    <tr style=\"text-align: right;\">\n",
       "      <th></th>\n",
       "      <th>RowNumber</th>\n",
       "      <th>CustomerId</th>\n",
       "      <th>Surname</th>\n",
       "      <th>CreditScore</th>\n",
       "      <th>Geography</th>\n",
       "      <th>Gender</th>\n",
       "      <th>Age</th>\n",
       "      <th>Tenure</th>\n",
       "      <th>Balance</th>\n",
       "      <th>NumOfProducts</th>\n",
       "      <th>HasCrCard</th>\n",
       "      <th>IsActiveMember</th>\n",
       "      <th>EstimatedSalary</th>\n",
       "      <th>Exited</th>\n",
       "    </tr>\n",
       "  </thead>\n",
       "  <tbody>\n",
       "    <tr>\n",
       "      <th>0</th>\n",
       "      <td>1</td>\n",
       "      <td>15634602</td>\n",
       "      <td>Hargrave</td>\n",
       "      <td>619</td>\n",
       "      <td>France</td>\n",
       "      <td>Female</td>\n",
       "      <td>42</td>\n",
       "      <td>2</td>\n",
       "      <td>0.00</td>\n",
       "      <td>1</td>\n",
       "      <td>1</td>\n",
       "      <td>1</td>\n",
       "      <td>101348.88</td>\n",
       "      <td>1</td>\n",
       "    </tr>\n",
       "    <tr>\n",
       "      <th>1</th>\n",
       "      <td>2</td>\n",
       "      <td>15647311</td>\n",
       "      <td>Hill</td>\n",
       "      <td>608</td>\n",
       "      <td>Spain</td>\n",
       "      <td>Female</td>\n",
       "      <td>41</td>\n",
       "      <td>1</td>\n",
       "      <td>83807.86</td>\n",
       "      <td>1</td>\n",
       "      <td>0</td>\n",
       "      <td>1</td>\n",
       "      <td>112542.58</td>\n",
       "      <td>0</td>\n",
       "    </tr>\n",
       "    <tr>\n",
       "      <th>2</th>\n",
       "      <td>3</td>\n",
       "      <td>15619304</td>\n",
       "      <td>Onio</td>\n",
       "      <td>502</td>\n",
       "      <td>France</td>\n",
       "      <td>Female</td>\n",
       "      <td>42</td>\n",
       "      <td>8</td>\n",
       "      <td>159660.80</td>\n",
       "      <td>3</td>\n",
       "      <td>1</td>\n",
       "      <td>0</td>\n",
       "      <td>113931.57</td>\n",
       "      <td>1</td>\n",
       "    </tr>\n",
       "    <tr>\n",
       "      <th>3</th>\n",
       "      <td>4</td>\n",
       "      <td>15701354</td>\n",
       "      <td>Boni</td>\n",
       "      <td>699</td>\n",
       "      <td>France</td>\n",
       "      <td>Female</td>\n",
       "      <td>39</td>\n",
       "      <td>1</td>\n",
       "      <td>0.00</td>\n",
       "      <td>2</td>\n",
       "      <td>0</td>\n",
       "      <td>0</td>\n",
       "      <td>93826.63</td>\n",
       "      <td>0</td>\n",
       "    </tr>\n",
       "    <tr>\n",
       "      <th>4</th>\n",
       "      <td>5</td>\n",
       "      <td>15737888</td>\n",
       "      <td>Mitchell</td>\n",
       "      <td>850</td>\n",
       "      <td>Spain</td>\n",
       "      <td>Female</td>\n",
       "      <td>43</td>\n",
       "      <td>2</td>\n",
       "      <td>125510.82</td>\n",
       "      <td>1</td>\n",
       "      <td>1</td>\n",
       "      <td>1</td>\n",
       "      <td>79084.10</td>\n",
       "      <td>0</td>\n",
       "    </tr>\n",
       "    <tr>\n",
       "      <th>...</th>\n",
       "      <td>...</td>\n",
       "      <td>...</td>\n",
       "      <td>...</td>\n",
       "      <td>...</td>\n",
       "      <td>...</td>\n",
       "      <td>...</td>\n",
       "      <td>...</td>\n",
       "      <td>...</td>\n",
       "      <td>...</td>\n",
       "      <td>...</td>\n",
       "      <td>...</td>\n",
       "      <td>...</td>\n",
       "      <td>...</td>\n",
       "      <td>...</td>\n",
       "    </tr>\n",
       "    <tr>\n",
       "      <th>9995</th>\n",
       "      <td>9996</td>\n",
       "      <td>15606229</td>\n",
       "      <td>Obijiaku</td>\n",
       "      <td>771</td>\n",
       "      <td>France</td>\n",
       "      <td>Male</td>\n",
       "      <td>39</td>\n",
       "      <td>5</td>\n",
       "      <td>0.00</td>\n",
       "      <td>2</td>\n",
       "      <td>1</td>\n",
       "      <td>0</td>\n",
       "      <td>96270.64</td>\n",
       "      <td>0</td>\n",
       "    </tr>\n",
       "    <tr>\n",
       "      <th>9996</th>\n",
       "      <td>9997</td>\n",
       "      <td>15569892</td>\n",
       "      <td>Johnstone</td>\n",
       "      <td>516</td>\n",
       "      <td>France</td>\n",
       "      <td>Male</td>\n",
       "      <td>35</td>\n",
       "      <td>10</td>\n",
       "      <td>57369.61</td>\n",
       "      <td>1</td>\n",
       "      <td>1</td>\n",
       "      <td>1</td>\n",
       "      <td>101699.77</td>\n",
       "      <td>0</td>\n",
       "    </tr>\n",
       "    <tr>\n",
       "      <th>9997</th>\n",
       "      <td>9998</td>\n",
       "      <td>15584532</td>\n",
       "      <td>Liu</td>\n",
       "      <td>709</td>\n",
       "      <td>France</td>\n",
       "      <td>Female</td>\n",
       "      <td>36</td>\n",
       "      <td>7</td>\n",
       "      <td>0.00</td>\n",
       "      <td>1</td>\n",
       "      <td>0</td>\n",
       "      <td>1</td>\n",
       "      <td>42085.58</td>\n",
       "      <td>1</td>\n",
       "    </tr>\n",
       "    <tr>\n",
       "      <th>9998</th>\n",
       "      <td>9999</td>\n",
       "      <td>15682355</td>\n",
       "      <td>Sabbatini</td>\n",
       "      <td>772</td>\n",
       "      <td>Germany</td>\n",
       "      <td>Male</td>\n",
       "      <td>42</td>\n",
       "      <td>3</td>\n",
       "      <td>75075.31</td>\n",
       "      <td>2</td>\n",
       "      <td>1</td>\n",
       "      <td>0</td>\n",
       "      <td>92888.52</td>\n",
       "      <td>1</td>\n",
       "    </tr>\n",
       "    <tr>\n",
       "      <th>9999</th>\n",
       "      <td>10000</td>\n",
       "      <td>15628319</td>\n",
       "      <td>Walker</td>\n",
       "      <td>792</td>\n",
       "      <td>France</td>\n",
       "      <td>Female</td>\n",
       "      <td>28</td>\n",
       "      <td>4</td>\n",
       "      <td>130142.79</td>\n",
       "      <td>1</td>\n",
       "      <td>1</td>\n",
       "      <td>0</td>\n",
       "      <td>38190.78</td>\n",
       "      <td>0</td>\n",
       "    </tr>\n",
       "  </tbody>\n",
       "</table>\n",
       "<p>10000 rows × 14 columns</p>\n",
       "</div>"
      ],
      "text/plain": [
       "      RowNumber  CustomerId    Surname  CreditScore Geography  Gender  Age  \\\n",
       "0             1    15634602   Hargrave          619    France  Female   42   \n",
       "1             2    15647311       Hill          608     Spain  Female   41   \n",
       "2             3    15619304       Onio          502    France  Female   42   \n",
       "3             4    15701354       Boni          699    France  Female   39   \n",
       "4             5    15737888   Mitchell          850     Spain  Female   43   \n",
       "...         ...         ...        ...          ...       ...     ...  ...   \n",
       "9995       9996    15606229   Obijiaku          771    France    Male   39   \n",
       "9996       9997    15569892  Johnstone          516    France    Male   35   \n",
       "9997       9998    15584532        Liu          709    France  Female   36   \n",
       "9998       9999    15682355  Sabbatini          772   Germany    Male   42   \n",
       "9999      10000    15628319     Walker          792    France  Female   28   \n",
       "\n",
       "      Tenure    Balance  NumOfProducts  HasCrCard  IsActiveMember  \\\n",
       "0          2       0.00              1          1               1   \n",
       "1          1   83807.86              1          0               1   \n",
       "2          8  159660.80              3          1               0   \n",
       "3          1       0.00              2          0               0   \n",
       "4          2  125510.82              1          1               1   \n",
       "...      ...        ...            ...        ...             ...   \n",
       "9995       5       0.00              2          1               0   \n",
       "9996      10   57369.61              1          1               1   \n",
       "9997       7       0.00              1          0               1   \n",
       "9998       3   75075.31              2          1               0   \n",
       "9999       4  130142.79              1          1               0   \n",
       "\n",
       "      EstimatedSalary  Exited  \n",
       "0           101348.88       1  \n",
       "1           112542.58       0  \n",
       "2           113931.57       1  \n",
       "3            93826.63       0  \n",
       "4            79084.10       0  \n",
       "...               ...     ...  \n",
       "9995         96270.64       0  \n",
       "9996        101699.77       0  \n",
       "9997         42085.58       1  \n",
       "9998         92888.52       1  \n",
       "9999         38190.78       0  \n",
       "\n",
       "[10000 rows x 14 columns]"
      ]
     },
     "execution_count": 3,
     "metadata": {},
     "output_type": "execute_result"
    }
   ],
   "source": [
    "df"
   ]
  },
  {
   "cell_type": "code",
   "execution_count": 4,
   "id": "9a3cd74b",
   "metadata": {},
   "outputs": [],
   "source": [
    "df.drop(\"RowNumber\",axis=1,inplace=True)"
   ]
  },
  {
   "cell_type": "code",
   "execution_count": 5,
   "id": "11010086",
   "metadata": {},
   "outputs": [],
   "source": [
    "df.drop(\"Surname\",axis=1,inplace=True)"
   ]
  },
  {
   "cell_type": "code",
   "execution_count": 6,
   "id": "f3b6d797",
   "metadata": {},
   "outputs": [],
   "source": [
    "df.drop(\"CustomerId\",axis=1,inplace=True)"
   ]
  },
  {
   "cell_type": "code",
   "execution_count": 7,
   "id": "8ea0aafd",
   "metadata": {},
   "outputs": [],
   "source": [
    "exit_tenure = df[df.Exited==1].Tenure"
   ]
  },
  {
   "cell_type": "code",
   "execution_count": 8,
   "id": "a436083e",
   "metadata": {},
   "outputs": [],
   "source": [
    "not_exited_tenure = df[df.Exited!=1].Tenure"
   ]
  },
  {
   "cell_type": "code",
   "execution_count": 9,
   "id": "def84ef1",
   "metadata": {},
   "outputs": [
    {
     "data": {
      "image/png": "[encoded data removed]",
      "text/plain": [
       "<Figure size 432x288 with 1 Axes>"
      ]
     },
     "metadata": {
      "needs_background": "light"
     },
     "output_type": "display_data"
    }
   ],
   "source": [
    "plt.hist([exit_tenure,not_exited_tenure],color=[\"red\",\"green\"],label=[\"exited = yes\",\"exited = no\"])\n",
    "plt.title(\"Churn Prediction Analysis\")\n",
    "plt.xlabel(\"Tenure\")\n",
    "plt.ylabel(\"Number Of Customer\")\n",
    "plt.legend();"
   ]
  },
  {
   "cell_type": "code",
   "execution_count": 10,
   "id": "3c226311",
   "metadata": {},
   "outputs": [],
   "source": [
    "AnnualSalary_yes = df[df.Exited==1].EstimatedSalary\n",
    "AnnualSalary_no = df[df.Exited!=1].EstimatedSalary"
   ]
  },
  {
   "cell_type": "code",
   "execution_count": 11,
   "id": "50fcccb8",
   "metadata": {},
   "outputs": [
    {
     "data": {
      "image/png": "[encoded data removed]",
      "text/plain": [
       "<Figure size 432x288 with 1 Axes>"
      ]
     },
     "metadata": {
      "needs_background": "light"
     },
     "output_type": "display_data"
    }
   ],
   "source": [
    "plt.hist([AnnualSalary_yes,AnnualSalary_no],color=[\"red\",\"green\"],label=[\"exited = yes\",\"exited = no\"])\n",
    "plt.title(\"Churn Prediction Analysis\")\n",
    "plt.xlabel(\"Annual salary\")\n",
    "plt.ylabel(\"Number Of Customer\")\n",
    "plt.legend();"
   ]
  },
  {
   "cell_type": "code",
   "execution_count": 12,
   "id": "0171843b",
   "metadata": {},
   "outputs": [],
   "source": [
    "balance_yes = df[df.Exited==1].Balance\n",
    "balance_no = df[df.Exited!=1].Balance"
   ]
  },
  {
   "cell_type": "code",
   "execution_count": 13,
   "id": "5224406b",
   "metadata": {},
   "outputs": [
    {
     "data": {
      "image/png": "[encoded data removed]",
      "text/plain": [
       "<Figure size 432x288 with 1 Axes>"
      ]
     },
     "metadata": {
      "needs_background": "light"
     },
     "output_type": "display_data"
    }
   ],
   "source": [
    "plt.hist([balance_yes,balance_no],color=[\"red\",\"green\"],label=[\"exited = yes\",\"exited = no\"])\n",
    "plt.title(\"Churn Prediction Analysis\")\n",
    "plt.xlabel(\"balance\")\n",
    "plt.ylabel(\"Number Of Customer\")\n",
    "plt.legend();"
   ]
  },
  {
   "cell_type": "code",
   "execution_count": 14,
   "id": "5bcc80e5",
   "metadata": {},
   "outputs": [
    {
     "data": {
      "image/png": "[encoded data removed]",
      "text/plain": [
       "<Figure size 432x288 with 1 Axes>"
      ]
     },
     "metadata": {
      "needs_background": "light"
     },
     "output_type": "display_data"
    }
   ],
   "source": [
    "pd.crosstab(df.Exited,df.Geography).plot(kind=\"bar\");"
   ]
  },
  {
   "cell_type": "code",
   "execution_count": 15,
   "id": "b546e454",
   "metadata": {},
   "outputs": [],
   "source": [
    "active_no = df[df.Exited==1].IsActiveMember\n",
    "active_yes = df[df.Exited!=1].IsActiveMember"
   ]
  },
  {
   "cell_type": "code",
   "execution_count": 16,
   "id": "ff64bb58",
   "metadata": {},
   "outputs": [
    {
     "data": {
      "image/png": "[encoded data removed]",
      "text/plain": [
       "<Figure size 432x288 with 1 Axes>"
      ]
     },
     "metadata": {
      "needs_background": "light"
     },
     "output_type": "display_data"
    }
   ],
   "source": [
    "plt.hist([active_no,active_yes],color=[\"red\",\"green\"],label=[\"exited = yes\",\"exited = no\"])\n",
    "plt.title(\"Churn Prediction Analysis\")\n",
    "plt.xlabel(\"Is Active Member\")\n",
    "plt.ylabel(\"Number Of Customer\")\n",
    "plt.legend();"
   ]
  },
  {
   "cell_type": "markdown",
   "id": "fb79f5f3",
   "metadata": {},
   "source": [
    "not active members are little bit leaving like 1000 persons"
   ]
  },
  {
   "cell_type": "code",
   "execution_count": 17,
   "id": "05d86102",
   "metadata": {},
   "outputs": [
    {
     "data": {
      "text/plain": [
       "((2037, 11), (7963, 11))"
      ]
     },
     "execution_count": 17,
     "metadata": {},
     "output_type": "execute_result"
    }
   ],
   "source": [
    "#2000+ person exit,     7000+ person continuing\n",
    "df[df.Exited==1].shape, df[df.Exited==0].shape"
   ]
  },
  {
   "cell_type": "code",
   "execution_count": 18,
   "id": "3a0ad101",
   "metadata": {},
   "outputs": [],
   "source": [
    "df[\"Gender\"].replace({'Female':1,\"Male\":0},inplace=True)"
   ]
  },
  {
   "cell_type": "code",
   "execution_count": 19,
   "id": "69effc8a",
   "metadata": {},
   "outputs": [
    {
     "data": {
      "text/html": [
       "<div>\n",
       "<style scoped>\n",
       "    .dataframe tbody tr th:only-of-type {\n",
       "        vertical-align: middle;\n",
       "    }\n",
       "\n",
       "    .dataframe tbody tr th {\n",
       "        vertical-align: top;\n",
       "    }\n",
       "\n",
       "    .dataframe thead th {\n",
       "        text-align: right;\n",
       "    }\n",
       "</style>\n",
       "<table border=\"1\" class=\"dataframe\">\n",
       "  <thead>\n",
       "    <tr style=\"text-align: right;\">\n",
       "      <th></th>\n",
       "      <th>CreditScore</th>\n",
       "      <th>Geography</th>\n",
       "      <th>Gender</th>\n",
       "      <th>Age</th>\n",
       "      <th>Tenure</th>\n",
       "      <th>Balance</th>\n",
       "      <th>NumOfProducts</th>\n",
       "      <th>HasCrCard</th>\n",
       "      <th>IsActiveMember</th>\n",
       "      <th>EstimatedSalary</th>\n",
       "      <th>Exited</th>\n",
       "    </tr>\n",
       "  </thead>\n",
       "  <tbody>\n",
       "    <tr>\n",
       "      <th>0</th>\n",
       "      <td>619</td>\n",
       "      <td>France</td>\n",
       "      <td>1</td>\n",
       "      <td>42</td>\n",
       "      <td>2</td>\n",
       "      <td>0.00</td>\n",
       "      <td>1</td>\n",
       "      <td>1</td>\n",
       "      <td>1</td>\n",
       "      <td>101348.88</td>\n",
       "      <td>1</td>\n",
       "    </tr>\n",
       "    <tr>\n",
       "      <th>1</th>\n",
       "      <td>608</td>\n",
       "      <td>Spain</td>\n",
       "      <td>1</td>\n",
       "      <td>41</td>\n",
       "      <td>1</td>\n",
       "      <td>83807.86</td>\n",
       "      <td>1</td>\n",
       "      <td>0</td>\n",
       "      <td>1</td>\n",
       "      <td>112542.58</td>\n",
       "      <td>0</td>\n",
       "    </tr>\n",
       "    <tr>\n",
       "      <th>2</th>\n",
       "      <td>502</td>\n",
       "      <td>France</td>\n",
       "      <td>1</td>\n",
       "      <td>42</td>\n",
       "      <td>8</td>\n",
       "      <td>159660.80</td>\n",
       "      <td>3</td>\n",
       "      <td>1</td>\n",
       "      <td>0</td>\n",
       "      <td>113931.57</td>\n",
       "      <td>1</td>\n",
       "    </tr>\n",
       "    <tr>\n",
       "      <th>3</th>\n",
       "      <td>699</td>\n",
       "      <td>France</td>\n",
       "      <td>1</td>\n",
       "      <td>39</td>\n",
       "      <td>1</td>\n",
       "      <td>0.00</td>\n",
       "      <td>2</td>\n",
       "      <td>0</td>\n",
       "      <td>0</td>\n",
       "      <td>93826.63</td>\n",
       "      <td>0</td>\n",
       "    </tr>\n",
       "    <tr>\n",
       "      <th>4</th>\n",
       "      <td>850</td>\n",
       "      <td>Spain</td>\n",
       "      <td>1</td>\n",
       "      <td>43</td>\n",
       "      <td>2</td>\n",
       "      <td>125510.82</td>\n",
       "      <td>1</td>\n",
       "      <td>1</td>\n",
       "      <td>1</td>\n",
       "      <td>79084.10</td>\n",
       "      <td>0</td>\n",
       "    </tr>\n",
       "  </tbody>\n",
       "</table>\n",
       "</div>"
      ],
      "text/plain": [
       "   CreditScore Geography  Gender  Age  Tenure    Balance  NumOfProducts  \\\n",
       "0          619    France       1   42       2       0.00              1   \n",
       "1          608     Spain       1   41       1   83807.86              1   \n",
       "2          502    France       1   42       8  159660.80              3   \n",
       "3          699    France       1   39       1       0.00              2   \n",
       "4          850     Spain       1   43       2  125510.82              1   \n",
       "\n",
       "   HasCrCard  IsActiveMember  EstimatedSalary  Exited  \n",
       "0          1               1        101348.88       1  \n",
       "1          0               1        112542.58       0  \n",
       "2          1               0        113931.57       1  \n",
       "3          0               0         93826.63       0  \n",
       "4          1               1         79084.10       0  "
      ]
     },
     "execution_count": 19,
     "metadata": {},
     "output_type": "execute_result"
    }
   ],
   "source": [
    "df.head()"
   ]
  },
  {
   "cell_type": "code",
   "execution_count": 20,
   "id": "4e2aa42f",
   "metadata": {},
   "outputs": [
    {
     "name": "stderr",
     "output_type": "stream",
     "text": [
      "C:\\Users\\thesu\\anaconda3\\lib\\site-packages\\scipy\\__init__.py:146: UserWarning: A NumPy version >=1.16.5 and <1.23.0 is required for this version of SciPy (detected version 1.26.0\n",
      "  warnings.warn(f\"A NumPy version >={np_minversion} and <{np_maxversion}\"\n"
     ]
    }
   ],
   "source": [
    "from sklearn.preprocessing import MinMaxScaler\n",
    "col_to_scale = [\"CreditScore\",\"Tenure\",\"Balance\",\"EstimatedSalary\"]\n",
    "scale = MinMaxScaler()\n",
    "df[col_to_scale] = scale.fit_transform(df[col_to_scale])"
   ]
  },
  {
   "cell_type": "code",
   "execution_count": 21,
   "id": "a4660939",
   "metadata": {},
   "outputs": [],
   "source": [
    "df[\"Age\"] = df[\"Age\"]/100"
   ]
  },
  {
   "cell_type": "code",
   "execution_count": 22,
   "id": "0dd84985",
   "metadata": {},
   "outputs": [
    {
     "data": {
      "text/html": [
       "<div>\n",
       "<style scoped>\n",
       "    .dataframe tbody tr th:only-of-type {\n",
       "        vertical-align: middle;\n",
       "    }\n",
       "\n",
       "    .dataframe tbody tr th {\n",
       "        vertical-align: top;\n",
       "    }\n",
       "\n",
       "    .dataframe thead th {\n",
       "        text-align: right;\n",
       "    }\n",
       "</style>\n",
       "<table border=\"1\" class=\"dataframe\">\n",
       "  <thead>\n",
       "    <tr style=\"text-align: right;\">\n",
       "      <th></th>\n",
       "      <th>CreditScore</th>\n",
       "      <th>Geography</th>\n",
       "      <th>Gender</th>\n",
       "      <th>Age</th>\n",
       "      <th>Tenure</th>\n",
       "      <th>Balance</th>\n",
       "      <th>NumOfProducts</th>\n",
       "      <th>HasCrCard</th>\n",
       "      <th>IsActiveMember</th>\n",
       "      <th>EstimatedSalary</th>\n",
       "      <th>Exited</th>\n",
       "    </tr>\n",
       "  </thead>\n",
       "  <tbody>\n",
       "    <tr>\n",
       "      <th>0</th>\n",
       "      <td>0.538</td>\n",
       "      <td>France</td>\n",
       "      <td>1</td>\n",
       "      <td>0.42</td>\n",
       "      <td>0.2</td>\n",
       "      <td>0.000000</td>\n",
       "      <td>1</td>\n",
       "      <td>1</td>\n",
       "      <td>1</td>\n",
       "      <td>0.506735</td>\n",
       "      <td>1</td>\n",
       "    </tr>\n",
       "    <tr>\n",
       "      <th>1</th>\n",
       "      <td>0.516</td>\n",
       "      <td>Spain</td>\n",
       "      <td>1</td>\n",
       "      <td>0.41</td>\n",
       "      <td>0.1</td>\n",
       "      <td>0.334031</td>\n",
       "      <td>1</td>\n",
       "      <td>0</td>\n",
       "      <td>1</td>\n",
       "      <td>0.562709</td>\n",
       "      <td>0</td>\n",
       "    </tr>\n",
       "    <tr>\n",
       "      <th>2</th>\n",
       "      <td>0.304</td>\n",
       "      <td>France</td>\n",
       "      <td>1</td>\n",
       "      <td>0.42</td>\n",
       "      <td>0.8</td>\n",
       "      <td>0.636357</td>\n",
       "      <td>3</td>\n",
       "      <td>1</td>\n",
       "      <td>0</td>\n",
       "      <td>0.569654</td>\n",
       "      <td>1</td>\n",
       "    </tr>\n",
       "    <tr>\n",
       "      <th>3</th>\n",
       "      <td>0.698</td>\n",
       "      <td>France</td>\n",
       "      <td>1</td>\n",
       "      <td>0.39</td>\n",
       "      <td>0.1</td>\n",
       "      <td>0.000000</td>\n",
       "      <td>2</td>\n",
       "      <td>0</td>\n",
       "      <td>0</td>\n",
       "      <td>0.469120</td>\n",
       "      <td>0</td>\n",
       "    </tr>\n",
       "    <tr>\n",
       "      <th>4</th>\n",
       "      <td>1.000</td>\n",
       "      <td>Spain</td>\n",
       "      <td>1</td>\n",
       "      <td>0.43</td>\n",
       "      <td>0.2</td>\n",
       "      <td>0.500246</td>\n",
       "      <td>1</td>\n",
       "      <td>1</td>\n",
       "      <td>1</td>\n",
       "      <td>0.395400</td>\n",
       "      <td>0</td>\n",
       "    </tr>\n",
       "  </tbody>\n",
       "</table>\n",
       "</div>"
      ],
      "text/plain": [
       "   CreditScore Geography  Gender   Age  Tenure   Balance  NumOfProducts  \\\n",
       "0        0.538    France       1  0.42     0.2  0.000000              1   \n",
       "1        0.516     Spain       1  0.41     0.1  0.334031              1   \n",
       "2        0.304    France       1  0.42     0.8  0.636357              3   \n",
       "3        0.698    France       1  0.39     0.1  0.000000              2   \n",
       "4        1.000     Spain       1  0.43     0.2  0.500246              1   \n",
       "\n",
       "   HasCrCard  IsActiveMember  EstimatedSalary  Exited  \n",
       "0          1               1         0.506735       1  \n",
       "1          0               1         0.562709       0  \n",
       "2          1               0         0.569654       1  \n",
       "3          0               0         0.469120       0  \n",
       "4          1               1         0.395400       0  "
      ]
     },
     "execution_count": 22,
     "metadata": {},
     "output_type": "execute_result"
    }
   ],
   "source": [
    "df.head()"
   ]
  },
  {
   "cell_type": "code",
   "execution_count": 23,
   "id": "c6523b87",
   "metadata": {},
   "outputs": [],
   "source": [
    "col = ['Geography']\n",
    "df1 = pd.get_dummies(data=df,columns=col)"
   ]
  },
  {
   "cell_type": "code",
   "execution_count": 24,
   "id": "8172b418",
   "metadata": {},
   "outputs": [
    {
     "data": {
      "text/plain": [
       "13"
      ]
     },
     "execution_count": 24,
     "metadata": {},
     "output_type": "execute_result"
    }
   ],
   "source": [
    "len(df1.columns)"
   ]
  },
  {
   "cell_type": "markdown",
   "id": "c8da2889",
   "metadata": {},
   "source": [
    "**now we done our data cleaning next we move to modelling**"
   ]
  },
  {
   "cell_type": "code",
   "execution_count": 25,
   "id": "75fe2112",
   "metadata": {},
   "outputs": [],
   "source": [
    "x = df1.drop(\"Exited\",axis=1)\n",
    "y = df1[\"Exited\"]\n",
    "from sklearn.model_selection import train_test_split\n",
    "X_train,X_test,y_train,y_test = train_test_split(x,y,test_size=0.2,random_state=42)"
   ]
  },
  {
   "cell_type": "code",
   "execution_count": 26,
   "id": "2bdfe4d9",
   "metadata": {},
   "outputs": [
    {
     "data": {
      "text/plain": [
       "12"
      ]
     },
     "execution_count": 26,
     "metadata": {},
     "output_type": "execute_result"
    }
   ],
   "source": [
    "len(X_train.columns)"
   ]
  },
  {
   "cell_type": "code",
   "execution_count": 27,
   "id": "80814fca",
   "metadata": {},
   "outputs": [
    {
     "name": "stdout",
     "output_type": "stream",
     "text": [
      "Epoch 1/10\n",
      "250/250 [==============================] - 2s 3ms/step - loss: 0.4678 - accuracy: 0.7962\n",
      "Epoch 2/10\n",
      "250/250 [==============================] - 1s 3ms/step - loss: 0.4011 - accuracy: 0.8261\n",
      "Epoch 3/10\n",
      "250/250 [==============================] - 1s 3ms/step - loss: 0.3745 - accuracy: 0.8429\n",
      "Epoch 4/10\n",
      "250/250 [==============================] - 1s 3ms/step - loss: 0.3625 - accuracy: 0.8474\n",
      "Epoch 5/10\n",
      "250/250 [==============================] - 1s 3ms/step - loss: 0.3605 - accuracy: 0.8493\n",
      "Epoch 6/10\n",
      "250/250 [==============================] - 1s 3ms/step - loss: 0.3562 - accuracy: 0.8499\n",
      "Epoch 7/10\n",
      "250/250 [==============================] - 1s 3ms/step - loss: 0.3516 - accuracy: 0.8522\n",
      "Epoch 8/10\n",
      "250/250 [==============================] - 1s 3ms/step - loss: 0.3471 - accuracy: 0.8562\n",
      "Epoch 9/10\n",
      "250/250 [==============================] - 1s 3ms/step - loss: 0.3492 - accuracy: 0.8540\n",
      "Epoch 10/10\n",
      "250/250 [==============================] - 1s 3ms/step - loss: 0.3414 - accuracy: 0.8615\n"
     ]
    },
    {
     "data": {
      "text/plain": [
       "<keras.src.callbacks.History at 0x17086873880>"
      ]
     },
     "execution_count": 27,
     "metadata": {},
     "output_type": "execute_result"
    }
   ],
   "source": [
    "import tensorflow as tf\n",
    "from tensorflow import keras\n",
    "\n",
    "\n",
    "model = tf.keras.Sequential([\n",
    "    tf.keras.layers.Dense(300,input_shape=(12,),activation=\"relu\"),\n",
    "    tf.keras.layers.Dense(200,activation='relu'),\n",
    "    tf.keras.layers.Dense(1,activation=\"sigmoid\")\n",
    "])\n",
    "\n",
    "model.compile(optimizer=\"adam\",\n",
    "             loss=\"binary_crossentropy\",\n",
    "             metrics=[\"accuracy\"])\n",
    "\n",
    "model.fit(X_train,y_train,epochs=10)"
   ]
  },
  {
   "cell_type": "code",
   "execution_count": 28,
   "id": "5736a7e6",
   "metadata": {},
   "outputs": [
    {
     "name": "stdout",
     "output_type": "stream",
     "text": [
      "63/63 [==============================] - 0s 2ms/step - loss: 0.3505 - accuracy: 0.8525\n"
     ]
    },
    {
     "data": {
      "text/plain": [
       "[0.3504839241504669, 0.8525000214576721]"
      ]
     },
     "execution_count": 28,
     "metadata": {},
     "output_type": "execute_result"
    }
   ],
   "source": [
    "model.evaluate(X_test,y_test)"
   ]
  },
  {
   "cell_type": "code",
   "execution_count": 29,
   "id": "f962491d",
   "metadata": {},
   "outputs": [
    {
     "name": "stdout",
     "output_type": "stream",
     "text": [
      "63/63 [==============================] - 0s 2ms/step\n"
     ]
    }
   ],
   "source": [
    "y_predict = model.predict(X_test)"
   ]
  },
  {
   "cell_type": "code",
   "execution_count": 30,
   "id": "7d36ebb0",
   "metadata": {},
   "outputs": [
    {
     "data": {
      "text/plain": [
       "array([[0.],\n",
       "       [0.],\n",
       "       [0.],\n",
       "       ...,\n",
       "       [1.],\n",
       "       [0.],\n",
       "       [0.]], dtype=float32)"
      ]
     },
     "execution_count": 30,
     "metadata": {},
     "output_type": "execute_result"
    }
   ],
   "source": [
    "np.round(y_predict)"
   ]
  },
  {
   "cell_type": "code",
   "execution_count": 31,
   "id": "440d0c16",
   "metadata": {},
   "outputs": [
    {
     "data": {
      "text/plain": [
       "6252    0\n",
       "4684    0\n",
       "1731    0\n",
       "4742    0\n",
       "4521    0\n",
       "Name: Exited, dtype: int64"
      ]
     },
     "execution_count": 31,
     "metadata": {},
     "output_type": "execute_result"
    }
   ],
   "source": [
    "y_test[:5]"
   ]
  },
  {
   "cell_type": "code",
   "execution_count": 32,
   "id": "96bfc940",
   "metadata": {},
   "outputs": [],
   "source": [
    "y_predicted = []\n",
    "for i in y_predict:\n",
    "    if i > 0.5:\n",
    "        y_predicted.append(1)\n",
    "    else:\n",
    "        y_predicted.append(0)"
   ]
  },
  {
   "cell_type": "code",
   "execution_count": 33,
   "id": "413da7df",
   "metadata": {},
   "outputs": [
    {
     "data": {
      "text/plain": [
       "[0, 0, 0, 0, 0]"
      ]
     },
     "execution_count": 33,
     "metadata": {},
     "output_type": "execute_result"
    }
   ],
   "source": [
    "y_predicted[:5]"
   ]
  },
  {
   "cell_type": "code",
   "execution_count": 34,
   "id": "0527737d",
   "metadata": {},
   "outputs": [
    {
     "name": "stdout",
     "output_type": "stream",
     "text": [
      "              precision    recall  f1-score   support\n",
      "\n",
      "           0       0.88      0.94      0.91      1607\n",
      "           1       0.67      0.49      0.57       393\n",
      "\n",
      "    accuracy                           0.85      2000\n",
      "   macro avg       0.78      0.72      0.74      2000\n",
      "weighted avg       0.84      0.85      0.84      2000\n",
      "\n"
     ]
    }
   ],
   "source": [
    "from sklearn.metrics import classification_report\n",
    "\n",
    "print(classification_report(y_test,y_predicted))"
   ]
  },
  {
   "cell_type": "code",
   "execution_count": 35,
   "id": "1d6b2a36",
   "metadata": {},
   "outputs": [],
   "source": [
    "cm=tf.math.confusion_matrix(labels=y_test,predictions=y_predicted)"
   ]
  },
  {
   "cell_type": "code",
   "execution_count": 36,
   "id": "a218e886",
   "metadata": {},
   "outputs": [
    {
     "data": {
      "text/plain": [
       "Text(69.0, 0.5, 'Truth')"
      ]
     },
     "execution_count": 36,
     "metadata": {},
     "output_type": "execute_result"
    },
    {
     "data": {
      "image/png": "[encoded data removed]",
      "text/plain": [
       "<Figure size 720x504 with 2 Axes>"
      ]
     },
     "metadata": {
      "needs_background": "light"
     },
     "output_type": "display_data"
    }
   ],
   "source": [
    "import seaborn as sn\n",
    "cm = tf.math.confusion_matrix(labels=y_test,predictions=y_predicted)\n",
    "\n",
    "plt.figure(figsize = (10,7))\n",
    "sn.heatmap(cm, annot=True, fmt='d')\n",
    "plt.xlabel('Predicted')\n",
    "plt.ylabel('Truth')"
   ]
  },
  {
   "cell_type": "code",
   "execution_count": 37,
   "id": "24bf5ac0",
   "metadata": {},
   "outputs": [],
   "source": [
    "def model(X_train,X_test,y_train,y_test,weights):\n",
    "    model = tf.keras.Sequential([\n",
    "        tf.keras.layers.Dense(300,input_shape=(12,),activation=\"relu\"),\n",
    "        tf.keras.layers.Dropout(0.5),\n",
    "        tf.keras.layers.Dense(200,activation='relu'),\n",
    "        tf.keras.layers.Dense(1,activation=\"sigmoid\")\n",
    "    ])\n",
    "\n",
    "    model.compile(optimizer=\"adam\",\n",
    "                 loss=\"binary_crossentropy\",\n",
    "                 metrics=[\"accuracy\"])\n",
    "    if weights == -1:\n",
    "        model.fit(X_train,y_train,epochs = 100)\n",
    "    \n",
    "    print(model.evaluate(X_test, y_test))\n",
    "    \n",
    "    y_preds = model.predict(X_test)\n",
    "    y_preds = np.round(y_preds)\n",
    "    \n",
    "    print(\"Classification Report: \\n\", classification_report(y_test, y_preds))\n",
    "    \n",
    "    return y_preds\n",
    "    \n",
    "    \n",
    "    "
   ]
  },
  {
   "cell_type": "markdown",
   "id": "4133ab17",
   "metadata": {},
   "source": [
    "# Handling Imbalance data \n",
    "\n",
    "### Method:1  UnderSampling"
   ]
  },
  {
   "cell_type": "code",
   "execution_count": 38,
   "id": "6d8818c3",
   "metadata": {},
   "outputs": [
    {
     "data": {
      "text/plain": [
       "0    7963\n",
       "1    2037\n",
       "Name: Exited, dtype: int64"
      ]
     },
     "execution_count": 38,
     "metadata": {},
     "output_type": "execute_result"
    }
   ],
   "source": [
    "df1.Exited.value_counts()"
   ]
  },
  {
   "cell_type": "code",
   "execution_count": 39,
   "id": "e1b329a3",
   "metadata": {},
   "outputs": [],
   "source": [
    "#class count\n",
    "count_class_0,count_class_1 = df1.Exited.value_counts()\n",
    "\n",
    "#divide by class\n",
    "df_0_class_org = df1[df1[\"Exited\"]==0]\n",
    "df_1_class = df1[df1[\"Exited\"]==1]"
   ]
  },
  {
   "cell_type": "code",
   "execution_count": 40,
   "id": "e80b0080",
   "metadata": {},
   "outputs": [
    {
     "name": "stdout",
     "output_type": "stream",
     "text": [
      "Random under-sampling:\n"
     ]
    },
    {
     "data": {
      "text/plain": [
       "0    2037\n",
       "1    2037\n",
       "Name: Exited, dtype: int64"
      ]
     },
     "execution_count": 40,
     "metadata": {},
     "output_type": "execute_result"
    }
   ],
   "source": [
    "df_0_class = df_0_class_org.sample(count_class_1)\n",
    "df_test_under = pd.concat([df_0_class,df_1_class],axis=0)\n",
    "\n",
    "print(\"Random under-sampling:\")\n",
    "df_test_under.Exited.value_counts()"
   ]
  },
  {
   "cell_type": "code",
   "execution_count": 41,
   "id": "fbe4c830",
   "metadata": {},
   "outputs": [],
   "source": [
    "x = df_test_under.drop(\"Exited\",axis=1)\n",
    "y = df_test_under[\"Exited\"]\n",
    "\n",
    "from sklearn.model_selection import train_test_split\n",
    "X_train,X_test,y_train,y_test = train_test_split(x,y,test_size=0.2,random_state=42)"
   ]
  },
  {
   "cell_type": "code",
   "execution_count": 42,
   "id": "7cb2bf1c",
   "metadata": {},
   "outputs": [
    {
     "data": {
      "text/plain": [
       "(3259, 815)"
      ]
     },
     "execution_count": 42,
     "metadata": {},
     "output_type": "execute_result"
    }
   ],
   "source": [
    "len(X_train),len(X_test)"
   ]
  },
  {
   "cell_type": "code",
   "execution_count": 43,
   "id": "e6eb51a7",
   "metadata": {},
   "outputs": [
    {
     "name": "stdout",
     "output_type": "stream",
     "text": [
      "Epoch 1/100\n",
      "102/102 [==============================] - 1s 3ms/step - loss: 0.6509 - accuracy: 0.6112\n",
      "Epoch 2/100\n",
      "102/102 [==============================] - 0s 3ms/step - loss: 0.6158 - accuracy: 0.6588\n",
      "Epoch 3/100\n",
      "102/102 [==============================] - 0s 3ms/step - loss: 0.5812 - accuracy: 0.6953\n",
      "Epoch 4/100\n",
      "102/102 [==============================] - 0s 3ms/step - loss: 0.5642 - accuracy: 0.7103\n",
      "Epoch 5/100\n",
      "102/102 [==============================] - 0s 3ms/step - loss: 0.5378 - accuracy: 0.7226\n",
      "Epoch 6/100\n",
      "102/102 [==============================] - 0s 3ms/step - loss: 0.5297 - accuracy: 0.7297\n",
      "Epoch 7/100\n",
      "102/102 [==============================] - 0s 3ms/step - loss: 0.5175 - accuracy: 0.7395\n",
      "Epoch 8/100\n",
      "102/102 [==============================] - 0s 3ms/step - loss: 0.5091 - accuracy: 0.7423\n",
      "Epoch 9/100\n",
      "102/102 [==============================] - 0s 3ms/step - loss: 0.4988 - accuracy: 0.7607\n",
      "Epoch 10/100\n",
      "102/102 [==============================] - 0s 3ms/step - loss: 0.5011 - accuracy: 0.7524\n",
      "Epoch 11/100\n",
      "102/102 [==============================] - 0s 3ms/step - loss: 0.4912 - accuracy: 0.7585\n",
      "Epoch 12/100\n",
      "102/102 [==============================] - 0s 3ms/step - loss: 0.4892 - accuracy: 0.7591\n",
      "Epoch 13/100\n",
      "102/102 [==============================] - 0s 3ms/step - loss: 0.4806 - accuracy: 0.7680\n",
      "Epoch 14/100\n",
      "102/102 [==============================] - 0s 4ms/step - loss: 0.4795 - accuracy: 0.7640\n",
      "Epoch 15/100\n",
      "102/102 [==============================] - 0s 4ms/step - loss: 0.4844 - accuracy: 0.7625\n",
      "Epoch 16/100\n",
      "102/102 [==============================] - 0s 4ms/step - loss: 0.4770 - accuracy: 0.7656\n",
      "Epoch 17/100\n",
      "102/102 [==============================] - 0s 4ms/step - loss: 0.4816 - accuracy: 0.7619\n",
      "Epoch 18/100\n",
      "102/102 [==============================] - 0s 4ms/step - loss: 0.4694 - accuracy: 0.7800\n",
      "Epoch 19/100\n",
      "102/102 [==============================] - 0s 4ms/step - loss: 0.4756 - accuracy: 0.7665\n",
      "Epoch 20/100\n",
      "102/102 [==============================] - 0s 4ms/step - loss: 0.4682 - accuracy: 0.7742\n",
      "Epoch 21/100\n",
      "102/102 [==============================] - 0s 4ms/step - loss: 0.4702 - accuracy: 0.7723\n",
      "Epoch 22/100\n",
      "102/102 [==============================] - 0s 4ms/step - loss: 0.4703 - accuracy: 0.7650\n",
      "Epoch 23/100\n",
      "102/102 [==============================] - 0s 4ms/step - loss: 0.4659 - accuracy: 0.7748\n",
      "Epoch 24/100\n",
      "102/102 [==============================] - 0s 4ms/step - loss: 0.4581 - accuracy: 0.7729\n",
      "Epoch 25/100\n",
      "102/102 [==============================] - 0s 4ms/step - loss: 0.4682 - accuracy: 0.7723\n",
      "Epoch 26/100\n",
      "102/102 [==============================] - 0s 4ms/step - loss: 0.4644 - accuracy: 0.7702\n",
      "Epoch 27/100\n",
      "102/102 [==============================] - 0s 4ms/step - loss: 0.4598 - accuracy: 0.7782\n",
      "Epoch 28/100\n",
      "102/102 [==============================] - 0s 4ms/step - loss: 0.4606 - accuracy: 0.7739\n",
      "Epoch 29/100\n",
      "102/102 [==============================] - 0s 4ms/step - loss: 0.4630 - accuracy: 0.7757\n",
      "Epoch 30/100\n",
      "102/102 [==============================] - 0s 4ms/step - loss: 0.4619 - accuracy: 0.7782\n",
      "Epoch 31/100\n",
      "102/102 [==============================] - 0s 4ms/step - loss: 0.4638 - accuracy: 0.7699\n",
      "Epoch 32/100\n",
      "102/102 [==============================] - 0s 4ms/step - loss: 0.4532 - accuracy: 0.7788\n",
      "Epoch 33/100\n",
      "102/102 [==============================] - 0s 4ms/step - loss: 0.4602 - accuracy: 0.7785\n",
      "Epoch 34/100\n",
      "102/102 [==============================] - 0s 4ms/step - loss: 0.4549 - accuracy: 0.7834\n",
      "Epoch 35/100\n",
      "102/102 [==============================] - 0s 4ms/step - loss: 0.4548 - accuracy: 0.7824\n",
      "Epoch 36/100\n",
      "102/102 [==============================] - 0s 4ms/step - loss: 0.4455 - accuracy: 0.7877\n",
      "Epoch 37/100\n",
      "102/102 [==============================] - 0s 4ms/step - loss: 0.4497 - accuracy: 0.7846\n",
      "Epoch 38/100\n",
      "102/102 [==============================] - 0s 4ms/step - loss: 0.4516 - accuracy: 0.7751\n",
      "Epoch 39/100\n",
      "102/102 [==============================] - 0s 4ms/step - loss: 0.4535 - accuracy: 0.7800\n",
      "Epoch 40/100\n",
      "102/102 [==============================] - 0s 3ms/step - loss: 0.4504 - accuracy: 0.7821\n",
      "Epoch 41/100\n",
      "102/102 [==============================] - 0s 3ms/step - loss: 0.4560 - accuracy: 0.7788\n",
      "Epoch 42/100\n",
      "102/102 [==============================] - 0s 3ms/step - loss: 0.4507 - accuracy: 0.7778\n",
      "Epoch 43/100\n",
      "102/102 [==============================] - 0s 3ms/step - loss: 0.4509 - accuracy: 0.7864\n",
      "Epoch 44/100\n",
      "102/102 [==============================] - 0s 3ms/step - loss: 0.4499 - accuracy: 0.7824\n",
      "Epoch 45/100\n",
      "102/102 [==============================] - 0s 3ms/step - loss: 0.4510 - accuracy: 0.7846\n",
      "Epoch 46/100\n",
      "102/102 [==============================] - 0s 3ms/step - loss: 0.4450 - accuracy: 0.7867\n",
      "Epoch 47/100\n",
      "102/102 [==============================] - 0s 3ms/step - loss: 0.4441 - accuracy: 0.7831\n",
      "Epoch 48/100\n",
      "102/102 [==============================] - 0s 2ms/step - loss: 0.4450 - accuracy: 0.7812\n",
      "Epoch 49/100\n",
      "102/102 [==============================] - 0s 2ms/step - loss: 0.4441 - accuracy: 0.7834\n",
      "Epoch 50/100\n",
      "102/102 [==============================] - 0s 3ms/step - loss: 0.4395 - accuracy: 0.7984\n",
      "Epoch 51/100\n",
      "102/102 [==============================] - 0s 3ms/step - loss: 0.4471 - accuracy: 0.7917\n",
      "Epoch 52/100\n",
      "102/102 [==============================] - 0s 3ms/step - loss: 0.4415 - accuracy: 0.7907\n",
      "Epoch 53/100\n",
      "102/102 [==============================] - 0s 3ms/step - loss: 0.4393 - accuracy: 0.7886\n",
      "Epoch 54/100\n",
      "102/102 [==============================] - 0s 3ms/step - loss: 0.4379 - accuracy: 0.7849\n",
      "Epoch 55/100\n",
      "102/102 [==============================] - 0s 3ms/step - loss: 0.4438 - accuracy: 0.7834\n",
      "Epoch 56/100\n",
      "102/102 [==============================] - 0s 3ms/step - loss: 0.4407 - accuracy: 0.7840\n",
      "Epoch 57/100\n",
      "102/102 [==============================] - 0s 3ms/step - loss: 0.4313 - accuracy: 0.7950\n",
      "Epoch 58/100\n",
      "102/102 [==============================] - 0s 3ms/step - loss: 0.4413 - accuracy: 0.7929\n",
      "Epoch 59/100\n",
      "102/102 [==============================] - 0s 3ms/step - loss: 0.4353 - accuracy: 0.7874\n",
      "Epoch 60/100\n",
      "102/102 [==============================] - 0s 3ms/step - loss: 0.4330 - accuracy: 0.7880\n",
      "Epoch 61/100\n",
      "102/102 [==============================] - 0s 3ms/step - loss: 0.4404 - accuracy: 0.7913\n",
      "Epoch 62/100\n",
      "102/102 [==============================] - 0s 3ms/step - loss: 0.4413 - accuracy: 0.7910\n",
      "Epoch 63/100\n",
      "102/102 [==============================] - 0s 3ms/step - loss: 0.4303 - accuracy: 0.7913\n",
      "Epoch 64/100\n",
      "102/102 [==============================] - 0s 3ms/step - loss: 0.4295 - accuracy: 0.7947\n",
      "Epoch 65/100\n",
      "102/102 [==============================] - 0s 3ms/step - loss: 0.4324 - accuracy: 0.7883\n",
      "Epoch 66/100\n",
      "102/102 [==============================] - 0s 3ms/step - loss: 0.4256 - accuracy: 0.7947\n",
      "Epoch 67/100\n",
      "102/102 [==============================] - 0s 3ms/step - loss: 0.4324 - accuracy: 0.7913\n",
      "Epoch 68/100\n",
      "102/102 [==============================] - 0s 3ms/step - loss: 0.4310 - accuracy: 0.7941\n",
      "Epoch 69/100\n",
      "102/102 [==============================] - 0s 3ms/step - loss: 0.4196 - accuracy: 0.8027\n",
      "Epoch 70/100\n",
      "102/102 [==============================] - 0s 3ms/step - loss: 0.4268 - accuracy: 0.7972\n",
      "Epoch 71/100\n",
      "102/102 [==============================] - 0s 3ms/step - loss: 0.4216 - accuracy: 0.8002\n",
      "Epoch 72/100\n",
      "102/102 [==============================] - 0s 3ms/step - loss: 0.4219 - accuracy: 0.7996\n",
      "Epoch 73/100\n",
      "102/102 [==============================] - 0s 3ms/step - loss: 0.4292 - accuracy: 0.7901\n",
      "Epoch 74/100\n",
      "102/102 [==============================] - 0s 3ms/step - loss: 0.4231 - accuracy: 0.7993\n",
      "Epoch 75/100\n",
      "102/102 [==============================] - 0s 3ms/step - loss: 0.4278 - accuracy: 0.7963\n",
      "Epoch 76/100\n",
      "102/102 [==============================] - 0s 3ms/step - loss: 0.4249 - accuracy: 0.7993\n",
      "Epoch 77/100\n",
      "102/102 [==============================] - 0s 3ms/step - loss: 0.4244 - accuracy: 0.7956\n",
      "Epoch 78/100\n",
      "102/102 [==============================] - 0s 4ms/step - loss: 0.4217 - accuracy: 0.7953\n",
      "Epoch 79/100\n",
      "102/102 [==============================] - 0s 3ms/step - loss: 0.4213 - accuracy: 0.7938\n",
      "Epoch 80/100\n",
      "102/102 [==============================] - 0s 4ms/step - loss: 0.4182 - accuracy: 0.8009\n",
      "Epoch 81/100\n",
      "102/102 [==============================] - 0s 4ms/step - loss: 0.4209 - accuracy: 0.7984\n",
      "Epoch 82/100\n",
      "102/102 [==============================] - 0s 4ms/step - loss: 0.4195 - accuracy: 0.7981\n",
      "Epoch 83/100\n",
      "102/102 [==============================] - 0s 4ms/step - loss: 0.4224 - accuracy: 0.7990\n",
      "Epoch 84/100\n",
      "102/102 [==============================] - 0s 4ms/step - loss: 0.4188 - accuracy: 0.8012\n",
      "Epoch 85/100\n",
      "102/102 [==============================] - 0s 4ms/step - loss: 0.4174 - accuracy: 0.8064\n",
      "Epoch 86/100\n",
      "102/102 [==============================] - 0s 3ms/step - loss: 0.4153 - accuracy: 0.8091\n",
      "Epoch 87/100\n",
      "102/102 [==============================] - 0s 3ms/step - loss: 0.4181 - accuracy: 0.8002\n",
      "Epoch 88/100\n",
      "102/102 [==============================] - 0s 3ms/step - loss: 0.4176 - accuracy: 0.8018\n",
      "Epoch 89/100\n",
      "102/102 [==============================] - 0s 3ms/step - loss: 0.4085 - accuracy: 0.8091\n",
      "Epoch 90/100\n",
      "102/102 [==============================] - 0s 3ms/step - loss: 0.4098 - accuracy: 0.8088\n",
      "Epoch 91/100\n",
      "102/102 [==============================] - 0s 3ms/step - loss: 0.4135 - accuracy: 0.8027\n",
      "Epoch 92/100\n",
      "102/102 [==============================] - 0s 3ms/step - loss: 0.4122 - accuracy: 0.8048\n",
      "Epoch 93/100\n",
      "102/102 [==============================] - 0s 3ms/step - loss: 0.4144 - accuracy: 0.7972\n",
      "Epoch 94/100\n",
      "102/102 [==============================] - 0s 3ms/step - loss: 0.4156 - accuracy: 0.8045\n",
      "Epoch 95/100\n",
      "102/102 [==============================] - 0s 3ms/step - loss: 0.4066 - accuracy: 0.8085\n",
      "Epoch 96/100\n",
      "102/102 [==============================] - 0s 3ms/step - loss: 0.4159 - accuracy: 0.8045\n",
      "Epoch 97/100\n",
      "102/102 [==============================] - 0s 3ms/step - loss: 0.4021 - accuracy: 0.8110\n",
      "Epoch 98/100\n",
      "102/102 [==============================] - 0s 3ms/step - loss: 0.4073 - accuracy: 0.8064\n",
      "Epoch 99/100\n",
      "102/102 [==============================] - 0s 3ms/step - loss: 0.4108 - accuracy: 0.8048\n",
      "Epoch 100/100\n",
      "102/102 [==============================] - 0s 3ms/step - loss: 0.4041 - accuracy: 0.8134\n",
      "26/26 [==============================] - 0s 1ms/step - loss: 0.4948 - accuracy: 0.7718\n",
      "[0.4947967231273651, 0.7717791199684143]\n",
      "26/26 [==============================] - 0s 1ms/step\n",
      "Classification Report: \n",
      "               precision    recall  f1-score   support\n",
      "\n",
      "           0       0.76      0.85      0.80       443\n",
      "           1       0.79      0.68      0.73       372\n",
      "\n",
      "    accuracy                           0.77       815\n",
      "   macro avg       0.77      0.76      0.77       815\n",
      "weighted avg       0.77      0.77      0.77       815\n",
      "\n"
     ]
    }
   ],
   "source": [
    "y_preds = model(X_train,X_test,y_train,y_test,-1)"
   ]
  },
  {
   "cell_type": "markdown",
   "id": "76b46940",
   "metadata": {},
   "source": [
    "### Method:2 OverSampling"
   ]
  },
  {
   "cell_type": "code",
   "execution_count": 44,
   "id": "8290ad63",
   "metadata": {},
   "outputs": [],
   "source": [
    "# Oversample 1-class and concat the DataFrames of both classes\n",
    "class_1_over = df_1_class.sample(count_class_0,replace=True)\n",
    "\n",
    "df_test_over = pd.concat([df_0_class_org,class_1_over],axis=0)"
   ]
  },
  {
   "cell_type": "code",
   "execution_count": 45,
   "id": "e89a9ddc",
   "metadata": {},
   "outputs": [
    {
     "data": {
      "text/plain": [
       "0    7963\n",
       "1    7963\n",
       "Name: Exited, dtype: int64"
      ]
     },
     "execution_count": 45,
     "metadata": {},
     "output_type": "execute_result"
    }
   ],
   "source": [
    "df_test_over.Exited.value_counts()"
   ]
  },
  {
   "cell_type": "code",
   "execution_count": 46,
   "id": "2a3db699",
   "metadata": {},
   "outputs": [],
   "source": [
    "x = df_test_over.drop(\"Exited\",axis=1)\n",
    "y = df_test_over[\"Exited\"]\n",
    "\n",
    "from sklearn.model_selection import train_test_split\n",
    "X_train,X_test,y_train,y_test = train_test_split(x,y,test_size=0.2,random_state=42)"
   ]
  },
  {
   "cell_type": "code",
   "execution_count": 47,
   "id": "757f83a1",
   "metadata": {},
   "outputs": [
    {
     "name": "stdout",
     "output_type": "stream",
     "text": [
      "Epoch 1/100\n",
      "399/399 [==============================] - 2s 3ms/step - loss: 0.6150 - accuracy: 0.6595\n",
      "Epoch 2/100\n",
      "399/399 [==============================] - 1s 3ms/step - loss: 0.5391 - accuracy: 0.7271\n",
      "Epoch 3/100\n",
      "399/399 [==============================] - 1s 3ms/step - loss: 0.5132 - accuracy: 0.7476\n",
      "Epoch 4/100\n",
      "399/399 [==============================] - 1s 3ms/step - loss: 0.4981 - accuracy: 0.7525\n",
      "Epoch 5/100\n",
      "399/399 [==============================] - 1s 3ms/step - loss: 0.4921 - accuracy: 0.7578\n",
      "Epoch 6/100\n",
      "399/399 [==============================] - 2s 4ms/step - loss: 0.4857 - accuracy: 0.7601\n",
      "Epoch 7/100\n",
      "399/399 [==============================] - 2s 4ms/step - loss: 0.4838 - accuracy: 0.7649\n",
      "Epoch 8/100\n",
      "399/399 [==============================] - 2s 4ms/step - loss: 0.4813 - accuracy: 0.7635\n",
      "Epoch 9/100\n",
      "399/399 [==============================] - 2s 4ms/step - loss: 0.4753 - accuracy: 0.7665\n",
      "Epoch 10/100\n",
      "399/399 [==============================] - 1s 3ms/step - loss: 0.4736 - accuracy: 0.7683\n",
      "Epoch 11/100\n",
      "399/399 [==============================] - 1s 3ms/step - loss: 0.4712 - accuracy: 0.7702\n",
      "Epoch 12/100\n",
      "399/399 [==============================] - 1s 2ms/step - loss: 0.4676 - accuracy: 0.7737\n",
      "Epoch 13/100\n",
      "399/399 [==============================] - 1s 3ms/step - loss: 0.4672 - accuracy: 0.7748\n",
      "Epoch 14/100\n",
      "399/399 [==============================] - 1s 3ms/step - loss: 0.4647 - accuracy: 0.7746\n",
      "Epoch 15/100\n",
      "399/399 [==============================] - 1s 3ms/step - loss: 0.4623 - accuracy: 0.7772\n",
      "Epoch 16/100\n",
      "399/399 [==============================] - 1s 3ms/step - loss: 0.4648 - accuracy: 0.7783\n",
      "Epoch 17/100\n",
      "399/399 [==============================] - 1s 3ms/step - loss: 0.4626 - accuracy: 0.7795\n",
      "Epoch 18/100\n",
      "399/399 [==============================] - 2s 4ms/step - loss: 0.4594 - accuracy: 0.7808\n",
      "Epoch 19/100\n",
      "399/399 [==============================] - 2s 4ms/step - loss: 0.4568 - accuracy: 0.7800\n",
      "Epoch 20/100\n",
      "399/399 [==============================] - 1s 4ms/step - loss: 0.4535 - accuracy: 0.7839\n",
      "Epoch 21/100\n",
      "399/399 [==============================] - 2s 4ms/step - loss: 0.4539 - accuracy: 0.7830\n",
      "Epoch 22/100\n",
      "399/399 [==============================] - 1s 3ms/step - loss: 0.4529 - accuracy: 0.7844\n",
      "Epoch 23/100\n",
      "399/399 [==============================] - 1s 3ms/step - loss: 0.4498 - accuracy: 0.7876\n",
      "Epoch 24/100\n",
      "399/399 [==============================] - 1s 3ms/step - loss: 0.4446 - accuracy: 0.7867\n",
      "Epoch 25/100\n",
      "399/399 [==============================] - 1s 3ms/step - loss: 0.4475 - accuracy: 0.7861\n",
      "Epoch 26/100\n",
      "399/399 [==============================] - 1s 3ms/step - loss: 0.4447 - accuracy: 0.7882\n",
      "Epoch 27/100\n",
      "399/399 [==============================] - 1s 3ms/step - loss: 0.4445 - accuracy: 0.7885\n",
      "Epoch 28/100\n",
      "399/399 [==============================] - 2s 4ms/step - loss: 0.4443 - accuracy: 0.7911\n",
      "Epoch 29/100\n",
      "399/399 [==============================] - 2s 4ms/step - loss: 0.4423 - accuracy: 0.7871\n",
      "Epoch 30/100\n",
      "399/399 [==============================] - 2s 4ms/step - loss: 0.4395 - accuracy: 0.7895\n",
      "Epoch 31/100\n",
      "399/399 [==============================] - 2s 4ms/step - loss: 0.4359 - accuracy: 0.7912\n",
      "Epoch 32/100\n",
      "399/399 [==============================] - 2s 4ms/step - loss: 0.4355 - accuracy: 0.7947\n",
      "Epoch 33/100\n",
      "399/399 [==============================] - 2s 4ms/step - loss: 0.4351 - accuracy: 0.7968\n",
      "Epoch 34/100\n",
      "399/399 [==============================] - 2s 4ms/step - loss: 0.4333 - accuracy: 0.7929\n",
      "Epoch 35/100\n",
      "399/399 [==============================] - 1s 3ms/step - loss: 0.4299 - accuracy: 0.7963\n",
      "Epoch 36/100\n",
      "399/399 [==============================] - 1s 3ms/step - loss: 0.4286 - accuracy: 0.7988\n",
      "Epoch 37/100\n",
      "399/399 [==============================] - 1s 3ms/step - loss: 0.4300 - accuracy: 0.7977\n",
      "Epoch 38/100\n",
      "399/399 [==============================] - 1s 3ms/step - loss: 0.4291 - accuracy: 0.7973\n",
      "Epoch 39/100\n",
      "399/399 [==============================] - 1s 4ms/step - loss: 0.4252 - accuracy: 0.7984\n",
      "Epoch 40/100\n",
      "399/399 [==============================] - 2s 4ms/step - loss: 0.4248 - accuracy: 0.7995\n",
      "Epoch 41/100\n",
      "399/399 [==============================] - 2s 4ms/step - loss: 0.4220 - accuracy: 0.8024\n",
      "Epoch 42/100\n",
      "399/399 [==============================] - 2s 4ms/step - loss: 0.4218 - accuracy: 0.8025\n",
      "Epoch 43/100\n",
      "399/399 [==============================] - 2s 4ms/step - loss: 0.4219 - accuracy: 0.8049\n",
      "Epoch 44/100\n",
      "399/399 [==============================] - 2s 4ms/step - loss: 0.4198 - accuracy: 0.8008\n",
      "Epoch 45/100\n",
      "399/399 [==============================] - 2s 4ms/step - loss: 0.4200 - accuracy: 0.8035\n",
      "Epoch 46/100\n",
      "399/399 [==============================] - 1s 3ms/step - loss: 0.4145 - accuracy: 0.8034\n",
      "Epoch 47/100\n",
      "399/399 [==============================] - 1s 3ms/step - loss: 0.4178 - accuracy: 0.8020\n",
      "Epoch 48/100\n",
      "399/399 [==============================] - 1s 3ms/step - loss: 0.4159 - accuracy: 0.8042\n",
      "Epoch 49/100\n",
      "399/399 [==============================] - 1s 3ms/step - loss: 0.4119 - accuracy: 0.8071\n",
      "Epoch 50/100\n",
      "399/399 [==============================] - 1s 3ms/step - loss: 0.4118 - accuracy: 0.8033\n",
      "Epoch 51/100\n",
      "399/399 [==============================] - 1s 3ms/step - loss: 0.4135 - accuracy: 0.8059\n",
      "Epoch 52/100\n",
      "399/399 [==============================] - 1s 4ms/step - loss: 0.4112 - accuracy: 0.8080\n",
      "Epoch 53/100\n",
      "399/399 [==============================] - 2s 4ms/step - loss: 0.4084 - accuracy: 0.8072\n",
      "Epoch 54/100\n",
      "399/399 [==============================] - 2s 4ms/step - loss: 0.4076 - accuracy: 0.8070\n",
      "Epoch 55/100\n",
      "399/399 [==============================] - 2s 4ms/step - loss: 0.4064 - accuracy: 0.8087\n",
      "Epoch 56/100\n",
      "399/399 [==============================] - 2s 4ms/step - loss: 0.4061 - accuracy: 0.8114\n",
      "Epoch 57/100\n",
      "399/399 [==============================] - 2s 4ms/step - loss: 0.4026 - accuracy: 0.8119\n",
      "Epoch 58/100\n",
      "399/399 [==============================] - 1s 3ms/step - loss: 0.4013 - accuracy: 0.8123\n",
      "Epoch 59/100\n",
      "399/399 [==============================] - 1s 3ms/step - loss: 0.3987 - accuracy: 0.8151\n",
      "Epoch 60/100\n",
      "399/399 [==============================] - 1s 3ms/step - loss: 0.3975 - accuracy: 0.8127\n",
      "Epoch 61/100\n",
      "399/399 [==============================] - 1s 3ms/step - loss: 0.3994 - accuracy: 0.8121\n",
      "Epoch 62/100\n",
      "399/399 [==============================] - 1s 3ms/step - loss: 0.4004 - accuracy: 0.8123\n",
      "Epoch 63/100\n",
      "399/399 [==============================] - 1s 3ms/step - loss: 0.3970 - accuracy: 0.8144\n",
      "Epoch 64/100\n",
      "399/399 [==============================] - 2s 4ms/step - loss: 0.3984 - accuracy: 0.8115\n",
      "Epoch 65/100\n",
      "399/399 [==============================] - 2s 4ms/step - loss: 0.3929 - accuracy: 0.8151\n",
      "Epoch 66/100\n",
      "399/399 [==============================] - 2s 4ms/step - loss: 0.3942 - accuracy: 0.8144\n",
      "Epoch 67/100\n",
      "399/399 [==============================] - 2s 4ms/step - loss: 0.3961 - accuracy: 0.8180\n",
      "Epoch 68/100\n",
      "399/399 [==============================] - 2s 4ms/step - loss: 0.3952 - accuracy: 0.8161\n",
      "Epoch 69/100\n",
      "399/399 [==============================] - 2s 4ms/step - loss: 0.3894 - accuracy: 0.8155\n",
      "Epoch 70/100\n",
      "399/399 [==============================] - 1s 3ms/step - loss: 0.3903 - accuracy: 0.8188\n",
      "Epoch 71/100\n",
      "399/399 [==============================] - 1s 3ms/step - loss: 0.3890 - accuracy: 0.8175\n",
      "Epoch 72/100\n",
      "399/399 [==============================] - 1s 3ms/step - loss: 0.3912 - accuracy: 0.8177\n",
      "Epoch 73/100\n",
      "399/399 [==============================] - 1s 3ms/step - loss: 0.3892 - accuracy: 0.8186\n",
      "Epoch 74/100\n",
      "399/399 [==============================] - 1s 3ms/step - loss: 0.3878 - accuracy: 0.8201\n",
      "Epoch 75/100\n",
      "399/399 [==============================] - 1s 4ms/step - loss: 0.3838 - accuracy: 0.8223\n",
      "Epoch 76/100\n",
      "399/399 [==============================] - 2s 4ms/step - loss: 0.3818 - accuracy: 0.8250\n",
      "Epoch 77/100\n",
      "399/399 [==============================] - 2s 4ms/step - loss: 0.3823 - accuracy: 0.8218\n",
      "Epoch 78/100\n",
      "399/399 [==============================] - 2s 4ms/step - loss: 0.3828 - accuracy: 0.8251\n",
      "Epoch 79/100\n",
      "399/399 [==============================] - 2s 4ms/step - loss: 0.3821 - accuracy: 0.8215\n",
      "Epoch 80/100\n",
      "399/399 [==============================] - 2s 4ms/step - loss: 0.3840 - accuracy: 0.8209\n",
      "Epoch 81/100\n",
      "399/399 [==============================] - 1s 3ms/step - loss: 0.3829 - accuracy: 0.8229\n",
      "Epoch 82/100\n",
      "399/399 [==============================] - 1s 3ms/step - loss: 0.3755 - accuracy: 0.8255\n",
      "Epoch 83/100\n",
      "399/399 [==============================] - 1s 3ms/step - loss: 0.3744 - accuracy: 0.8306\n",
      "Epoch 84/100\n",
      "399/399 [==============================] - 1s 2ms/step - loss: 0.3744 - accuracy: 0.8256\n",
      "Epoch 85/100\n",
      "399/399 [==============================] - 1s 3ms/step - loss: 0.3753 - accuracy: 0.8246\n",
      "Epoch 86/100\n",
      "399/399 [==============================] - 1s 3ms/step - loss: 0.3759 - accuracy: 0.8256\n",
      "Epoch 87/100\n",
      "399/399 [==============================] - 2s 4ms/step - loss: 0.3751 - accuracy: 0.8235\n",
      "Epoch 88/100\n",
      "399/399 [==============================] - 2s 4ms/step - loss: 0.3706 - accuracy: 0.8289\n",
      "Epoch 89/100\n",
      "399/399 [==============================] - 2s 4ms/step - loss: 0.3661 - accuracy: 0.8306\n",
      "Epoch 90/100\n",
      "399/399 [==============================] - 2s 4ms/step - loss: 0.3704 - accuracy: 0.8288\n",
      "Epoch 91/100\n",
      "399/399 [==============================] - 2s 4ms/step - loss: 0.3711 - accuracy: 0.8271\n",
      "Epoch 92/100\n",
      "399/399 [==============================] - 2s 4ms/step - loss: 0.3704 - accuracy: 0.8254\n",
      "Epoch 93/100\n",
      "399/399 [==============================] - 1s 3ms/step - loss: 0.3680 - accuracy: 0.8315\n",
      "Epoch 94/100\n",
      "399/399 [==============================] - 1s 3ms/step - loss: 0.3683 - accuracy: 0.8285\n",
      "Epoch 95/100\n",
      "399/399 [==============================] - 1s 3ms/step - loss: 0.3621 - accuracy: 0.8352\n",
      "Epoch 96/100\n",
      "399/399 [==============================] - 1s 3ms/step - loss: 0.3631 - accuracy: 0.8287\n",
      "Epoch 97/100\n",
      "399/399 [==============================] - 1s 3ms/step - loss: 0.3617 - accuracy: 0.8301\n",
      "Epoch 98/100\n",
      "399/399 [==============================] - 1s 3ms/step - loss: 0.3597 - accuracy: 0.8332\n",
      "Epoch 99/100\n",
      "399/399 [==============================] - 1s 3ms/step - loss: 0.3587 - accuracy: 0.8359\n",
      "Epoch 100/100\n",
      "399/399 [==============================] - 2s 4ms/step - loss: 0.3658 - accuracy: 0.8301\n",
      "100/100 [==============================] - 0s 2ms/step - loss: 0.3789 - accuracy: 0.8258\n",
      "[0.37886467576026917, 0.825800359249115]\n",
      "100/100 [==============================] - 0s 2ms/step\n",
      "Classification Report: \n",
      "               precision    recall  f1-score   support\n",
      "\n",
      "           0       0.84      0.81      0.82      1605\n",
      "           1       0.81      0.84      0.83      1581\n",
      "\n",
      "    accuracy                           0.83      3186\n",
      "   macro avg       0.83      0.83      0.83      3186\n",
      "weighted avg       0.83      0.83      0.83      3186\n",
      "\n"
     ]
    }
   ],
   "source": [
    "y_preds_over = model(X_train,X_test,y_train,y_test,-1)"
   ]
  },
  {
   "cell_type": "code",
   "execution_count": 49,
   "id": "85773b01",
   "metadata": {},
   "outputs": [],
   "source": [
    "x = df1.drop(\"Exited\",axis=1)\n",
    "y = df1[\"Exited\"]"
   ]
  },
  {
   "cell_type": "code",
   "execution_count": 50,
   "id": "dc1c758a",
   "metadata": {},
   "outputs": [],
   "source": [
    "from imblearn.over_sampling import SMOTE"
   ]
  },
  {
   "cell_type": "code",
   "execution_count": 54,
   "id": "0b3e378e",
   "metadata": {},
   "outputs": [
    {
     "name": "stdout",
     "output_type": "stream",
     "text": [
      "1    7963\n",
      "0    7963\n",
      "Name: Exited, dtype: int64\n"
     ]
    }
   ],
   "source": [
    "from imblearn.over_sampling import SMOTE\n",
    "\n",
    "smote = SMOTE(sampling_strategy='minority')\n",
    "X_sm, y_sm = smote.fit_resample(x, y)\n",
    "\n",
    "# Now you can check the class distribution in y_sm\n",
    "print(y_sm.value_counts())"
   ]
  },
  {
   "cell_type": "code",
   "execution_count": 55,
   "id": "28406fbd",
   "metadata": {},
   "outputs": [],
   "source": [
    "from sklearn.model_selection import train_test_split\n",
    "x_train,x_test,y_train,y_test = train_test_split(X_sm,y_sm,test_size=0.2,stratify=y_sm)"
   ]
  },
  {
   "cell_type": "code",
   "execution_count": 57,
   "id": "c338f0b1",
   "metadata": {},
   "outputs": [
    {
     "data": {
      "text/plain": [
       "1    6370\n",
       "0    6370\n",
       "Name: Exited, dtype: int64"
      ]
     },
     "execution_count": 57,
     "metadata": {},
     "output_type": "execute_result"
    }
   ],
   "source": [
    "y_train.value_counts()"
   ]
  },
  {
   "cell_type": "code",
   "execution_count": 58,
   "id": "441690f0",
   "metadata": {},
   "outputs": [
    {
     "name": "stdout",
     "output_type": "stream",
     "text": [
      "Epoch 1/100\n",
      "399/399 [==============================] - 3s 5ms/step - loss: 0.6167 - accuracy: 0.6632\n",
      "Epoch 2/100\n",
      "399/399 [==============================] - 2s 4ms/step - loss: 0.5401 - accuracy: 0.7291\n",
      "Epoch 3/100\n",
      "399/399 [==============================] - 2s 4ms/step - loss: 0.5071 - accuracy: 0.7451\n",
      "Epoch 4/100\n",
      "399/399 [==============================] - 2s 4ms/step - loss: 0.4907 - accuracy: 0.7578\n",
      "Epoch 5/100\n",
      "399/399 [==============================] - 2s 4ms/step - loss: 0.4835 - accuracy: 0.7604\n",
      "Epoch 6/100\n",
      "399/399 [==============================] - 2s 4ms/step - loss: 0.4772 - accuracy: 0.7663\n",
      "Epoch 7/100\n",
      "399/399 [==============================] - 2s 4ms/step - loss: 0.4739 - accuracy: 0.7687\n",
      "Epoch 8/100\n",
      "399/399 [==============================] - 2s 4ms/step - loss: 0.4687 - accuracy: 0.7730\n",
      "Epoch 9/100\n",
      "399/399 [==============================] - 2s 4ms/step - loss: 0.4674 - accuracy: 0.7746\n",
      "Epoch 10/100\n",
      "399/399 [==============================] - 2s 4ms/step - loss: 0.4629 - accuracy: 0.7790\n",
      "Epoch 11/100\n",
      "399/399 [==============================] - 2s 4ms/step - loss: 0.4582 - accuracy: 0.7785\n",
      "Epoch 12/100\n",
      "399/399 [==============================] - 2s 4ms/step - loss: 0.4543 - accuracy: 0.7860\n",
      "Epoch 13/100\n",
      "399/399 [==============================] - 2s 4ms/step - loss: 0.4506 - accuracy: 0.7831\n",
      "Epoch 14/100\n",
      "399/399 [==============================] - 1s 4ms/step - loss: 0.4466 - accuracy: 0.7850\n",
      "Epoch 15/100\n",
      "399/399 [==============================] - 1s 3ms/step - loss: 0.4444 - accuracy: 0.7865\n",
      "Epoch 16/100\n",
      "399/399 [==============================] - 1s 3ms/step - loss: 0.4425 - accuracy: 0.7885\n",
      "Epoch 17/100\n",
      "399/399 [==============================] - 1s 3ms/step - loss: 0.4423 - accuracy: 0.7925\n",
      "Epoch 18/100\n",
      "399/399 [==============================] - 1s 3ms/step - loss: 0.4422 - accuracy: 0.7894\n",
      "Epoch 19/100\n",
      "399/399 [==============================] - 2s 4ms/step - loss: 0.4377 - accuracy: 0.7930\n",
      "Epoch 20/100\n",
      "399/399 [==============================] - 2s 4ms/step - loss: 0.4340 - accuracy: 0.7978\n",
      "Epoch 21/100\n",
      "399/399 [==============================] - 2s 4ms/step - loss: 0.4367 - accuracy: 0.7927\n",
      "Epoch 22/100\n",
      "399/399 [==============================] - 2s 4ms/step - loss: 0.4311 - accuracy: 0.7960\n",
      "Epoch 23/100\n",
      "399/399 [==============================] - 2s 4ms/step - loss: 0.4336 - accuracy: 0.7954\n",
      "Epoch 24/100\n",
      "399/399 [==============================] - 2s 4ms/step - loss: 0.4320 - accuracy: 0.7958\n",
      "Epoch 25/100\n",
      "399/399 [==============================] - 2s 4ms/step - loss: 0.4274 - accuracy: 0.8000\n",
      "Epoch 26/100\n",
      "399/399 [==============================] - 1s 3ms/step - loss: 0.4271 - accuracy: 0.8012\n",
      "Epoch 27/100\n",
      "399/399 [==============================] - 1s 3ms/step - loss: 0.4236 - accuracy: 0.8027\n",
      "Epoch 28/100\n",
      "399/399 [==============================] - 1s 3ms/step - loss: 0.4237 - accuracy: 0.8020\n",
      "Epoch 29/100\n",
      "399/399 [==============================] - 1s 3ms/step - loss: 0.4214 - accuracy: 0.8022\n",
      "Epoch 30/100\n",
      "399/399 [==============================] - 1s 3ms/step - loss: 0.4221 - accuracy: 0.8051\n",
      "Epoch 31/100\n",
      "399/399 [==============================] - 1s 4ms/step - loss: 0.4192 - accuracy: 0.8049\n",
      "Epoch 32/100\n",
      "399/399 [==============================] - 2s 4ms/step - loss: 0.4171 - accuracy: 0.8031\n",
      "Epoch 33/100\n",
      "399/399 [==============================] - 2s 4ms/step - loss: 0.4178 - accuracy: 0.8039\n",
      "Epoch 34/100\n",
      "399/399 [==============================] - 2s 4ms/step - loss: 0.4186 - accuracy: 0.8043\n",
      "Epoch 35/100\n",
      "399/399 [==============================] - 2s 4ms/step - loss: 0.4114 - accuracy: 0.8078\n",
      "Epoch 36/100\n",
      "399/399 [==============================] - 2s 4ms/step - loss: 0.4143 - accuracy: 0.8044\n",
      "Epoch 37/100\n",
      "399/399 [==============================] - 1s 3ms/step - loss: 0.4113 - accuracy: 0.8094\n",
      "Epoch 38/100\n",
      "399/399 [==============================] - 1s 3ms/step - loss: 0.4131 - accuracy: 0.8077\n",
      "Epoch 39/100\n",
      "399/399 [==============================] - 1s 3ms/step - loss: 0.4070 - accuracy: 0.8112\n",
      "Epoch 40/100\n",
      "399/399 [==============================] - 1s 3ms/step - loss: 0.4095 - accuracy: 0.8069\n",
      "Epoch 41/100\n",
      "399/399 [==============================] - 2s 4ms/step - loss: 0.4084 - accuracy: 0.8091\n",
      "Epoch 42/100\n",
      "399/399 [==============================] - 2s 4ms/step - loss: 0.4018 - accuracy: 0.8151\n",
      "Epoch 43/100\n",
      "399/399 [==============================] - 2s 4ms/step - loss: 0.4078 - accuracy: 0.8137\n",
      "Epoch 44/100\n",
      "399/399 [==============================] - 2s 4ms/step - loss: 0.4006 - accuracy: 0.8150\n",
      "Epoch 45/100\n",
      "399/399 [==============================] - 2s 4ms/step - loss: 0.4025 - accuracy: 0.8097\n",
      "Epoch 46/100\n",
      "399/399 [==============================] - 2s 4ms/step - loss: 0.3996 - accuracy: 0.8159\n",
      "Epoch 47/100\n",
      "399/399 [==============================] - 2s 4ms/step - loss: 0.3963 - accuracy: 0.8162\n",
      "Epoch 48/100\n",
      "399/399 [==============================] - 2s 4ms/step - loss: 0.3949 - accuracy: 0.8194\n",
      "Epoch 49/100\n",
      "399/399 [==============================] - 1s 3ms/step - loss: 0.3929 - accuracy: 0.8194\n",
      "Epoch 50/100\n",
      "399/399 [==============================] - 1s 3ms/step - loss: 0.3951 - accuracy: 0.8196\n",
      "Epoch 51/100\n",
      "399/399 [==============================] - 2s 4ms/step - loss: 0.3910 - accuracy: 0.8193\n",
      "Epoch 52/100\n",
      "399/399 [==============================] - 2s 4ms/step - loss: 0.3912 - accuracy: 0.8204\n",
      "Epoch 53/100\n",
      "399/399 [==============================] - 2s 4ms/step - loss: 0.3882 - accuracy: 0.8177\n",
      "Epoch 54/100\n",
      "399/399 [==============================] - 2s 4ms/step - loss: 0.3912 - accuracy: 0.8166\n",
      "Epoch 55/100\n",
      "399/399 [==============================] - 2s 4ms/step - loss: 0.3891 - accuracy: 0.8202\n",
      "Epoch 56/100\n",
      "399/399 [==============================] - 2s 4ms/step - loss: 0.3868 - accuracy: 0.8174\n",
      "Epoch 57/100\n",
      "399/399 [==============================] - 2s 4ms/step - loss: 0.3866 - accuracy: 0.8218\n",
      "Epoch 58/100\n",
      "399/399 [==============================] - 1s 3ms/step - loss: 0.3906 - accuracy: 0.8197\n",
      "Epoch 59/100\n",
      "399/399 [==============================] - 1s 3ms/step - loss: 0.3807 - accuracy: 0.8250\n",
      "Epoch 60/100\n",
      "399/399 [==============================] - 1s 3ms/step - loss: 0.3796 - accuracy: 0.8238\n",
      "Epoch 61/100\n",
      "399/399 [==============================] - 1s 3ms/step - loss: 0.3826 - accuracy: 0.8250\n",
      "Epoch 62/100\n",
      "399/399 [==============================] - 1s 3ms/step - loss: 0.3780 - accuracy: 0.8252\n",
      "Epoch 63/100\n",
      "399/399 [==============================] - 2s 4ms/step - loss: 0.3819 - accuracy: 0.8204\n",
      "Epoch 64/100\n",
      "399/399 [==============================] - 2s 4ms/step - loss: 0.3822 - accuracy: 0.8232\n",
      "Epoch 65/100\n",
      "399/399 [==============================] - 2s 4ms/step - loss: 0.3813 - accuracy: 0.8238\n",
      "Epoch 66/100\n",
      "399/399 [==============================] - 2s 4ms/step - loss: 0.3811 - accuracy: 0.8236\n",
      "Epoch 67/100\n",
      "399/399 [==============================] - 2s 4ms/step - loss: 0.3772 - accuracy: 0.8265\n",
      "Epoch 68/100\n",
      "399/399 [==============================] - 2s 4ms/step - loss: 0.3740 - accuracy: 0.8286\n",
      "Epoch 69/100\n",
      "399/399 [==============================] - 2s 4ms/step - loss: 0.3709 - accuracy: 0.8296\n",
      "Epoch 70/100\n",
      "399/399 [==============================] - 1s 3ms/step - loss: 0.3728 - accuracy: 0.8269\n",
      "Epoch 71/100\n",
      "399/399 [==============================] - 1s 3ms/step - loss: 0.3721 - accuracy: 0.8265\n",
      "Epoch 72/100\n",
      "399/399 [==============================] - 1s 3ms/step - loss: 0.3669 - accuracy: 0.8307\n",
      "Epoch 73/100\n",
      "399/399 [==============================] - 1s 3ms/step - loss: 0.3717 - accuracy: 0.8292\n",
      "Epoch 74/100\n",
      "399/399 [==============================] - 1s 3ms/step - loss: 0.3708 - accuracy: 0.8310\n",
      "Epoch 75/100\n",
      "399/399 [==============================] - 2s 4ms/step - loss: 0.3679 - accuracy: 0.8312\n",
      "Epoch 76/100\n",
      "399/399 [==============================] - 2s 4ms/step - loss: 0.3648 - accuracy: 0.8305\n",
      "Epoch 77/100\n",
      "399/399 [==============================] - 2s 4ms/step - loss: 0.3674 - accuracy: 0.8321\n",
      "Epoch 78/100\n",
      "399/399 [==============================] - 2s 4ms/step - loss: 0.3706 - accuracy: 0.8276\n",
      "Epoch 79/100\n",
      "399/399 [==============================] - 2s 4ms/step - loss: 0.3652 - accuracy: 0.8325\n",
      "Epoch 80/100\n",
      "399/399 [==============================] - 2s 4ms/step - loss: 0.3671 - accuracy: 0.8329\n",
      "Epoch 81/100\n",
      "399/399 [==============================] - 1s 4ms/step - loss: 0.3648 - accuracy: 0.8324\n",
      "Epoch 82/100\n",
      "399/399 [==============================] - 1s 3ms/step - loss: 0.3586 - accuracy: 0.8366\n",
      "Epoch 83/100\n",
      "399/399 [==============================] - 1s 3ms/step - loss: 0.3665 - accuracy: 0.8307\n",
      "Epoch 84/100\n",
      "399/399 [==============================] - 1s 3ms/step - loss: 0.3635 - accuracy: 0.8319\n",
      "Epoch 85/100\n",
      "399/399 [==============================] - 1s 3ms/step - loss: 0.3617 - accuracy: 0.8334\n",
      "Epoch 86/100\n",
      "399/399 [==============================] - 2s 4ms/step - loss: 0.3597 - accuracy: 0.8331\n",
      "Epoch 87/100\n",
      "399/399 [==============================] - 2s 4ms/step - loss: 0.3575 - accuracy: 0.8329\n",
      "Epoch 88/100\n",
      "399/399 [==============================] - 2s 4ms/step - loss: 0.3559 - accuracy: 0.8377\n",
      "Epoch 89/100\n",
      "399/399 [==============================] - 2s 4ms/step - loss: 0.3593 - accuracy: 0.8339\n",
      "Epoch 90/100\n",
      "399/399 [==============================] - 2s 4ms/step - loss: 0.3570 - accuracy: 0.8348\n",
      "Epoch 91/100\n",
      "399/399 [==============================] - 2s 4ms/step - loss: 0.3481 - accuracy: 0.8432\n",
      "Epoch 92/100\n",
      "399/399 [==============================] - 2s 4ms/step - loss: 0.3509 - accuracy: 0.8391\n",
      "Epoch 93/100\n",
      "399/399 [==============================] - 1s 3ms/step - loss: 0.3545 - accuracy: 0.8388\n",
      "Epoch 94/100\n",
      "399/399 [==============================] - 1s 3ms/step - loss: 0.3549 - accuracy: 0.8405\n",
      "Epoch 95/100\n",
      "399/399 [==============================] - 1s 3ms/step - loss: 0.3546 - accuracy: 0.8378\n",
      "Epoch 96/100\n",
      "399/399 [==============================] - 1s 3ms/step - loss: 0.3518 - accuracy: 0.8404\n",
      "Epoch 97/100\n",
      "399/399 [==============================] - 2s 4ms/step - loss: 0.3515 - accuracy: 0.8397\n",
      "Epoch 98/100\n",
      "399/399 [==============================] - 2s 4ms/step - loss: 0.3492 - accuracy: 0.8403\n",
      "Epoch 99/100\n",
      "399/399 [==============================] - 2s 4ms/step - loss: 0.3482 - accuracy: 0.8425\n",
      "Epoch 100/100\n",
      "399/399 [==============================] - 2s 4ms/step - loss: 0.3492 - accuracy: 0.8418\n",
      "100/100 [==============================] - 0s 2ms/step - loss: 0.3569 - accuracy: 0.8481\n",
      "[0.3569083511829376, 0.848085343837738]\n",
      "100/100 [==============================] - 0s 2ms/step\n",
      "Classification Report: \n",
      "               precision    recall  f1-score   support\n",
      "\n",
      "           0       0.86      0.83      0.85      1593\n",
      "           1       0.84      0.87      0.85      1593\n",
      "\n",
      "    accuracy                           0.85      3186\n",
      "   macro avg       0.85      0.85      0.85      3186\n",
      "weighted avg       0.85      0.85      0.85      3186\n",
      "\n"
     ]
    }
   ],
   "source": [
    "y_preds_Smote = model(x_train,x_test,y_train,y_test,-1)"
   ]
  },
  {
   "cell_type": "code",
   "execution_count": 107,
   "id": "65c8366d",
   "metadata": {},
   "outputs": [
    {
     "data": {
      "text/plain": [
       "array([[1.],\n",
       "       [0.],\n",
       "       [0.],\n",
       "       [1.],\n",
       "       [1.]], dtype=float32)"
      ]
     },
     "execution_count": 107,
     "metadata": {},
     "output_type": "execute_result"
    }
   ],
   "source": [
    "y_preds_Smote[:5]"
   ]
  },
  {
   "cell_type": "code",
   "execution_count": 76,
   "id": "83da269a",
   "metadata": {},
   "outputs": [],
   "source": [
    "y_preds_smote = [int(i[0]) for i in y_preds_Smote]"
   ]
  },
  {
   "cell_type": "code",
   "execution_count": 78,
   "id": "17c7a955",
   "metadata": {},
   "outputs": [],
   "source": [
    "cm=tf.math.confusion_matrix(labels=y_test,predictions=y_preds_smote)"
   ]
  },
  {
   "cell_type": "code",
   "execution_count": 79,
   "id": "8050e842",
   "metadata": {},
   "outputs": [
    {
     "data": {
      "text/plain": [
       "Text(69.0, 0.5, 'Truth')"
      ]
     },
     "execution_count": 79,
     "metadata": {},
     "output_type": "execute_result"
    },
    {
     "data": {
      "image/png": "[encoded data removed]",
      "text/plain": [
       "<Figure size 720x504 with 2 Axes>"
      ]
     },
     "metadata": {
      "needs_background": "light"
     },
     "output_type": "display_data"
    }
   ],
   "source": [
    "import seaborn as sn\n",
    "\n",
    "plt.figure(figsize = (10,7))\n",
    "sn.heatmap(cm, annot=True, fmt='d')\n",
    "plt.xlabel('Predicted')\n",
    "plt.ylabel('Truth')"
   ]
  },
  {
   "cell_type": "code",
   "execution_count": 88,
   "id": "898dd263",
   "metadata": {},
   "outputs": [
    {
     "data": {
      "text/plain": [
       "(3186, 2702, 484)"
      ]
     },
     "execution_count": 88,
     "metadata": {},
     "output_type": "execute_result"
    }
   ],
   "source": [
    "len(y_test),1321+1381,212+272"
   ]
  },
  {
   "cell_type": "code",
   "execution_count": null,
   "id": "980e599f",
   "metadata": {},
   "outputs": [],
   "source": []
  }
 ],
 "metadata": {
  "kernelspec": {
   "display_name": "Python 3 (ipykernel)",
   "language": "python",
   "name": "python3"
  },
  "language_info": {
   "codemirror_mode": {
    "name": "ipython",
    "version": 3
   },
   "file_extension": ".py",
   "mimetype": "text/x-python",
   "name": "python",
   "nbconvert_exporter": "python",
   "pygments_lexer": "ipython3",
   "version": "3.9.18"
  }
 },
 "nbformat": 4,
 "nbformat_minor": 5
}
